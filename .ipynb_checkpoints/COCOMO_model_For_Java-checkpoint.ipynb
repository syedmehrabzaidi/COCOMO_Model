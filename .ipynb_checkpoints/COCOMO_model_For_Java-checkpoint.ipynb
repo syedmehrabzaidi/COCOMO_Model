{
 "cells": [
  {
   "cell_type": "code",
   "execution_count": 1,
   "metadata": {},
   "outputs": [
    {
     "name": "stdout",
     "output_type": "stream",
     "text": [
      "\n",
      "COCOMO MODEL: \n",
      "-------------------\n",
      "^^^^^^C Language^^^^^^^^^^^^^\n",
      "\n",
      "Time =  9084.827602671452 \n",
      "\n",
      "EFFORT =  163526.89684808612\n"
     ]
    }
   ],
   "source": [
    "#!/usr/bin/python3\n",
    "import sys\n",
    "from math import log2\n",
    "\n",
    "if(len(sys.argv) != 2):\n",
    "    print(\"\\nCOCOMO MODEL: \")\n",
    "    print(\"-------------------\")\n",
    "   \n",
    "    exit()\n",
    "\n",
    "operatorsFileName = \"operand\"\n",
    "programFileName = \"cfile.py\"\n",
    "\n",
    "operators = {}\n",
    "operands = {}\n",
    "\n",
    "with open(operatorsFileName) as f:\n",
    "    for op in f:\n",
    "        operators[op.replace('\\n','')] = 0\n",
    "\n",
    "isAllowed = True\n",
    "\n",
    "with open(programFileName) as f:\n",
    "    for line in f:\n",
    "        line = line.strip(\"\\n\").strip(' ')\n",
    "\n",
    "        if(line.startswith(\"/*\")):\n",
    "            isAllowed = False\n",
    "       \n",
    "        if((not line.startswith(\"//\")) and isAllowed == True and (not line.startswith('#'))):\n",
    "            for key in operators.keys():\n",
    "                operators[key] = operators[key] + line.count(key)\n",
    "                line = line.replace(key,' ')\n",
    "            for key in line.split():\n",
    "                if key in operands :\n",
    "                    \n",
    "                    operands[key] = operands[key] + 1\n",
    "                else:\n",
    "                    operands[key] = 1\n",
    "\n",
    "        if(line.endswith(\"*/\")):\n",
    "            isAllowed = True\n",
    "\n",
    "\n",
    "n1, N1, n2, N2 = 0, 0, 0, 0\n",
    "n1, N1, n2, N2 = 1, 1, 1, 1\n",
    "\n",
    "\n",
    "for key in operators:\n",
    "    if(operators[key] > 0 ):\n",
    "        if(key not in \")}]\"):\n",
    "            n1, N1 = n1 + 1, N1 + operators[key]\n",
    "   #         print(\"{} = {}\".format(key, operators[key]))\n",
    "\n",
    "for key in operands.keys():\n",
    "    if(operands[key] > 0 ):\n",
    "        n2, N2 = n2 + 1, N2 + operands[key]\n",
    "     #   print(\"{} = {}\".format(key, operands[key]))\n",
    "\n",
    "val = {\"N\": N1 + N2, \"n\": n1 + n2, \"V\": (N1 + N2) * log2(n1 + n2), \"D\": n1 * N2 / 2 / n2}\n",
    "val['E'] = val['D'] * val['V']\n",
    "val['L'] = val['V'] / val['D'] / val['D']\n",
    "val['I'] = val['V'] / val['D']\n",
    "val['T'] = val['E'] / (18)\n",
    "val['N^'] = n1 * log2(n1) + n2 * log2(n2)\n",
    "val['L^'] = 2 * n2 / N2 / n1\n",
    "\n",
    "unit = {'V': 'bits', 'T': 'seconds'}\n",
    "name = {'N':'Halstead Program Length', 'n':'Halstead Vocabulary', 'V':'Program Volume', 'D':'Program Difficulty', 'E': 'Programming Effort', 'L':'Language level', 'I':'Intelligence Content', 'T':'Time','N^':'Estimated program length', 'L^':'Estimated language level'}\n",
    "\n",
    "#print(\"\\nThe various values are: \")\n",
    "#for key in val.keys():\n",
    "#    print(\"{} ({}) = {} {}\".format(key,name[key], val[key], unit[key] if key in unit else ''))\n",
    "\n",
    "print('^^^^^^C Language^^^^^^^^^^^^^\\n') \n",
    "print('Time = ',val['T'],\"\\n\")    \n",
    "print('EFFORT = ',val['E']) \n"
   ]
  },
  {
   "cell_type": "code",
   "execution_count": null,
   "metadata": {},
   "outputs": [],
   "source": []
  },
  {
   "cell_type": "code",
   "execution_count": null,
   "metadata": {},
   "outputs": [],
   "source": []
  }
 ],
 "metadata": {
  "kernelspec": {
   "display_name": "Python 3.6.5 64-bit (virtualenv)",
   "language": "python",
   "name": "python36564bitvirtualenv06cc43a6842d498d9f1a5b933184b2fe"
  },
  "language_info": {
   "codemirror_mode": {
    "name": "ipython",
    "version": 3
   },
   "file_extension": ".py",
   "mimetype": "text/x-python",
   "name": "python",
   "nbconvert_exporter": "python",
   "pygments_lexer": "ipython3",
   "version": "3.6.5"
  }
 },
 "nbformat": 4,
 "nbformat_minor": 2
}
